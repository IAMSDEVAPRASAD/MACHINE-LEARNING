{
 "cells": [
  {
   "cell_type": "code",
   "execution_count": 1,
   "id": "a12fe9ed-bb69-49b7-98ab-d9ed5470ffb2",
   "metadata": {
    "tags": []
   },
   "outputs": [],
   "source": [
    "import pandas as pd\n",
    "import numpy as np\n",
    "from sklearn.model_selection import train_test_split\n",
    "from sklearn.linear_model import LinearRegression\n",
    "import matplotlib.pyplot as plt\n",
    "from sklearn.metrics import r2_score"
   ]
  },
  {
   "cell_type": "code",
   "execution_count": 2,
   "id": "19fcd4cd-d6da-4e4c-bad1-55cd0537b630",
   "metadata": {
    "tags": []
   },
   "outputs": [],
   "source": [
    "path = \"/home/dell/Jupyter notebook datas/csv files/VAH30.csv\"\n",
    "data_df = pd.read_csv(path, nrows=181,usecols=[0,1,2,3,7])"
   ]
  },
  {
   "cell_type": "code",
   "execution_count": 3,
   "id": "5587aa83-cd9d-4b9d-91b9-0ac919f028bd",
   "metadata": {
    "tags": []
   },
   "outputs": [
    {
     "data": {
      "text/html": [
       "<div>\n",
       "<style scoped>\n",
       "    .dataframe tbody tr th:only-of-type {\n",
       "        vertical-align: middle;\n",
       "    }\n",
       "\n",
       "    .dataframe tbody tr th {\n",
       "        vertical-align: top;\n",
       "    }\n",
       "\n",
       "    .dataframe thead th {\n",
       "        text-align: right;\n",
       "    }\n",
       "</style>\n",
       "<table border=\"1\" class=\"dataframe\">\n",
       "  <thead>\n",
       "    <tr style=\"text-align: right;\">\n",
       "      <th></th>\n",
       "      <th>time_s</th>\n",
       "      <th>Ecell_V</th>\n",
       "      <th>I_mA</th>\n",
       "      <th>EnergyCharge_W_h</th>\n",
       "      <th>Temperature__C</th>\n",
       "    </tr>\n",
       "  </thead>\n",
       "  <tbody>\n",
       "    <tr>\n",
       "      <th>0</th>\n",
       "      <td>0.000000</td>\n",
       "      <td>3.529413</td>\n",
       "      <td>1488.3409</td>\n",
       "      <td>0.000000</td>\n",
       "      <td>34.048470</td>\n",
       "    </tr>\n",
       "    <tr>\n",
       "      <th>1</th>\n",
       "      <td>30.000001</td>\n",
       "      <td>3.536107</td>\n",
       "      <td>1489.1287</td>\n",
       "      <td>0.043876</td>\n",
       "      <td>34.325005</td>\n",
       "    </tr>\n",
       "    <tr>\n",
       "      <th>2</th>\n",
       "      <td>60.000003</td>\n",
       "      <td>3.540636</td>\n",
       "      <td>1488.7347</td>\n",
       "      <td>0.087809</td>\n",
       "      <td>34.885979</td>\n",
       "    </tr>\n",
       "    <tr>\n",
       "      <th>3</th>\n",
       "      <td>90.000004</td>\n",
       "      <td>3.544771</td>\n",
       "      <td>1489.5226</td>\n",
       "      <td>0.131793</td>\n",
       "      <td>34.996593</td>\n",
       "    </tr>\n",
       "    <tr>\n",
       "      <th>4</th>\n",
       "      <td>120.000006</td>\n",
       "      <td>3.548985</td>\n",
       "      <td>1488.3408</td>\n",
       "      <td>0.175829</td>\n",
       "      <td>35.162514</td>\n",
       "    </tr>\n",
       "    <tr>\n",
       "      <th>...</th>\n",
       "      <td>...</td>\n",
       "      <td>...</td>\n",
       "      <td>...</td>\n",
       "      <td>...</td>\n",
       "      <td>...</td>\n",
       "    </tr>\n",
       "    <tr>\n",
       "      <th>176</th>\n",
       "      <td>5280.000251</td>\n",
       "      <td>4.194347</td>\n",
       "      <td>1487.1592</td>\n",
       "      <td>8.503802</td>\n",
       "      <td>37.698757</td>\n",
       "    </tr>\n",
       "    <tr>\n",
       "      <th>177</th>\n",
       "      <td>5310.000252</td>\n",
       "      <td>4.198364</td>\n",
       "      <td>1489.5226</td>\n",
       "      <td>8.555892</td>\n",
       "      <td>37.722458</td>\n",
       "    </tr>\n",
       "    <tr>\n",
       "      <th>178</th>\n",
       "      <td>5320.488253</td>\n",
       "      <td>4.199861</td>\n",
       "      <td>1487.5531</td>\n",
       "      <td>8.574110</td>\n",
       "      <td>37.501228</td>\n",
       "    </tr>\n",
       "    <tr>\n",
       "      <th>179</th>\n",
       "      <td>5350.488254</td>\n",
       "      <td>4.199546</td>\n",
       "      <td>1326.2543</td>\n",
       "      <td>8.622828</td>\n",
       "      <td>37.659248</td>\n",
       "    </tr>\n",
       "    <tr>\n",
       "      <th>180</th>\n",
       "      <td>5380.488256</td>\n",
       "      <td>4.199546</td>\n",
       "      <td>1227.1906</td>\n",
       "      <td>8.667523</td>\n",
       "      <td>37.588139</td>\n",
       "    </tr>\n",
       "  </tbody>\n",
       "</table>\n",
       "<p>181 rows × 5 columns</p>\n",
       "</div>"
      ],
      "text/plain": [
       "          time_s   Ecell_V       I_mA  EnergyCharge_W_h  Temperature__C\n",
       "0       0.000000  3.529413  1488.3409          0.000000       34.048470\n",
       "1      30.000001  3.536107  1489.1287          0.043876       34.325005\n",
       "2      60.000003  3.540636  1488.7347          0.087809       34.885979\n",
       "3      90.000004  3.544771  1489.5226          0.131793       34.996593\n",
       "4     120.000006  3.548985  1488.3408          0.175829       35.162514\n",
       "..           ...       ...        ...               ...             ...\n",
       "176  5280.000251  4.194347  1487.1592          8.503802       37.698757\n",
       "177  5310.000252  4.198364  1489.5226          8.555892       37.722458\n",
       "178  5320.488253  4.199861  1487.5531          8.574110       37.501228\n",
       "179  5350.488254  4.199546  1326.2543          8.622828       37.659248\n",
       "180  5380.488256  4.199546  1227.1906          8.667523       37.588139\n",
       "\n",
       "[181 rows x 5 columns]"
      ]
     },
     "execution_count": 3,
     "metadata": {},
     "output_type": "execute_result"
    }
   ],
   "source": [
    "data_df"
   ]
  },
  {
   "cell_type": "code",
   "execution_count": 4,
   "id": "503649c2-afc0-42fc-965c-e687dbf08093",
   "metadata": {
    "tags": []
   },
   "outputs": [],
   "source": [
    "x = data_df.drop(['Temperature__C'],axis = 1).values\n",
    "y = data_df['Temperature__C'].values"
   ]
  },
  {
   "cell_type": "code",
   "execution_count": 5,
   "id": "70b0c7ef-1398-4d93-b74b-2963ba6b360d",
   "metadata": {
    "tags": []
   },
   "outputs": [],
   "source": [
    "x_train,x_test,y_train,y_test = train_test_split(x,y,test_size = 0.3,random_state = 0)"
   ]
  },
  {
   "cell_type": "code",
   "execution_count": 6,
   "id": "1862449e-6ce1-4246-8308-c6fedb823d24",
   "metadata": {
    "tags": []
   },
   "outputs": [
    {
     "data": {
      "text/html": [
       "<style>#sk-container-id-1 {color: black;background-color: white;}#sk-container-id-1 pre{padding: 0;}#sk-container-id-1 div.sk-toggleable {background-color: white;}#sk-container-id-1 label.sk-toggleable__label {cursor: pointer;display: block;width: 100%;margin-bottom: 0;padding: 0.3em;box-sizing: border-box;text-align: center;}#sk-container-id-1 label.sk-toggleable__label-arrow:before {content: \"▸\";float: left;margin-right: 0.25em;color: #696969;}#sk-container-id-1 label.sk-toggleable__label-arrow:hover:before {color: black;}#sk-container-id-1 div.sk-estimator:hover label.sk-toggleable__label-arrow:before {color: black;}#sk-container-id-1 div.sk-toggleable__content {max-height: 0;max-width: 0;overflow: hidden;text-align: left;background-color: #f0f8ff;}#sk-container-id-1 div.sk-toggleable__content pre {margin: 0.2em;color: black;border-radius: 0.25em;background-color: #f0f8ff;}#sk-container-id-1 input.sk-toggleable__control:checked~div.sk-toggleable__content {max-height: 200px;max-width: 100%;overflow: auto;}#sk-container-id-1 input.sk-toggleable__control:checked~label.sk-toggleable__label-arrow:before {content: \"▾\";}#sk-container-id-1 div.sk-estimator input.sk-toggleable__control:checked~label.sk-toggleable__label {background-color: #d4ebff;}#sk-container-id-1 div.sk-label input.sk-toggleable__control:checked~label.sk-toggleable__label {background-color: #d4ebff;}#sk-container-id-1 input.sk-hidden--visually {border: 0;clip: rect(1px 1px 1px 1px);clip: rect(1px, 1px, 1px, 1px);height: 1px;margin: -1px;overflow: hidden;padding: 0;position: absolute;width: 1px;}#sk-container-id-1 div.sk-estimator {font-family: monospace;background-color: #f0f8ff;border: 1px dotted black;border-radius: 0.25em;box-sizing: border-box;margin-bottom: 0.5em;}#sk-container-id-1 div.sk-estimator:hover {background-color: #d4ebff;}#sk-container-id-1 div.sk-parallel-item::after {content: \"\";width: 100%;border-bottom: 1px solid gray;flex-grow: 1;}#sk-container-id-1 div.sk-label:hover label.sk-toggleable__label {background-color: #d4ebff;}#sk-container-id-1 div.sk-serial::before {content: \"\";position: absolute;border-left: 1px solid gray;box-sizing: border-box;top: 0;bottom: 0;left: 50%;z-index: 0;}#sk-container-id-1 div.sk-serial {display: flex;flex-direction: column;align-items: center;background-color: white;padding-right: 0.2em;padding-left: 0.2em;position: relative;}#sk-container-id-1 div.sk-item {position: relative;z-index: 1;}#sk-container-id-1 div.sk-parallel {display: flex;align-items: stretch;justify-content: center;background-color: white;position: relative;}#sk-container-id-1 div.sk-item::before, #sk-container-id-1 div.sk-parallel-item::before {content: \"\";position: absolute;border-left: 1px solid gray;box-sizing: border-box;top: 0;bottom: 0;left: 50%;z-index: -1;}#sk-container-id-1 div.sk-parallel-item {display: flex;flex-direction: column;z-index: 1;position: relative;background-color: white;}#sk-container-id-1 div.sk-parallel-item:first-child::after {align-self: flex-end;width: 50%;}#sk-container-id-1 div.sk-parallel-item:last-child::after {align-self: flex-start;width: 50%;}#sk-container-id-1 div.sk-parallel-item:only-child::after {width: 0;}#sk-container-id-1 div.sk-dashed-wrapped {border: 1px dashed gray;margin: 0 0.4em 0.5em 0.4em;box-sizing: border-box;padding-bottom: 0.4em;background-color: white;}#sk-container-id-1 div.sk-label label {font-family: monospace;font-weight: bold;display: inline-block;line-height: 1.2em;}#sk-container-id-1 div.sk-label-container {text-align: center;}#sk-container-id-1 div.sk-container {/* jupyter's `normalize.less` sets `[hidden] { display: none; }` but bootstrap.min.css set `[hidden] { display: none !important; }` so we also need the `!important` here to be able to override the default hidden behavior on the sphinx rendered scikit-learn.org. See: https://github.com/scikit-learn/scikit-learn/issues/21755 */display: inline-block !important;position: relative;}#sk-container-id-1 div.sk-text-repr-fallback {display: none;}</style><div id=\"sk-container-id-1\" class=\"sk-top-container\"><div class=\"sk-text-repr-fallback\"><pre>LinearRegression()</pre><b>In a Jupyter environment, please rerun this cell to show the HTML representation or trust the notebook. <br />On GitHub, the HTML representation is unable to render, please try loading this page with nbviewer.org.</b></div><div class=\"sk-container\" hidden><div class=\"sk-item\"><div class=\"sk-estimator sk-toggleable\"><input class=\"sk-toggleable__control sk-hidden--visually\" id=\"sk-estimator-id-1\" type=\"checkbox\" checked><label for=\"sk-estimator-id-1\" class=\"sk-toggleable__label sk-toggleable__label-arrow\">LinearRegression</label><div class=\"sk-toggleable__content\"><pre>LinearRegression()</pre></div></div></div></div></div>"
      ],
      "text/plain": [
       "LinearRegression()"
      ]
     },
     "execution_count": 6,
     "metadata": {},
     "output_type": "execute_result"
    }
   ],
   "source": [
    "nl = LinearRegression()\n",
    "nl.fit(x_train,y_train)"
   ]
  },
  {
   "cell_type": "code",
   "execution_count": 10,
   "id": "b8dee61a-f8b3-4882-891a-d9a6a05e840a",
   "metadata": {
    "tags": []
   },
   "outputs": [
    {
     "data": {
      "text/plain": [
       "array([ 1.71150946e-02, -1.36173284e+01, -5.50730872e-04, -9.26413938e+00])"
      ]
     },
     "execution_count": 10,
     "metadata": {},
     "output_type": "execute_result"
    }
   ],
   "source": [
    "nl.coef_"
   ]
  },
  {
   "cell_type": "code",
   "execution_count": 11,
   "id": "48c55f84-c858-449f-aa68-ad74cecd0ee2",
   "metadata": {
    "tags": []
   },
   "outputs": [
    {
     "data": {
      "text/plain": [
       "83.7336612057425"
      ]
     },
     "execution_count": 11,
     "metadata": {},
     "output_type": "execute_result"
    }
   ],
   "source": [
    "nl.intercept_"
   ]
  },
  {
   "cell_type": "code",
   "execution_count": 14,
   "id": "fc757772-0c5f-4a6f-837b-862eee35d2c6",
   "metadata": {
    "tags": []
   },
   "outputs": [],
   "source": [
    "y_pred = nl.predict(x_test)"
   ]
  },
  {
   "cell_type": "code",
   "execution_count": 15,
   "id": "b383f67b-b99c-4364-be6a-f6dcdd217f93",
   "metadata": {
    "tags": []
   },
   "outputs": [
    {
     "data": {
      "text/plain": [
       "<matplotlib.collections.PathCollection at 0x7f45362fe9a0>"
      ]
     },
     "execution_count": 15,
     "metadata": {},
     "output_type": "execute_result"
    },
    {
     "data": {
      "image/png": "[encoded data removed]",
      "text/plain": [
       "<Figure size 640x480 with 1 Axes>"
      ]
     },
     "metadata": {},
     "output_type": "display_data"
    }
   ],
   "source": [
    "plt.scatter(y_test,y_pred)"
   ]
  },
  {
   "cell_type": "code",
   "execution_count": 16,
   "id": "66d0ff95-b03e-4a22-80a5-46d4f9cd5765",
   "metadata": {
    "tags": []
   },
   "outputs": [
    {
     "data": {
      "text/plain": [
       "0.9370320928002116"
      ]
     },
     "execution_count": 16,
     "metadata": {},
     "output_type": "execute_result"
    }
   ],
   "source": [
    "r2_score(y_test,y_pred) #r2 score"
   ]
  },
  {
   "cell_type": "code",
   "execution_count": 17,
   "id": "5f8dd057-c883-4084-9472-c5b8a7888f0e",
   "metadata": {
    "tags": []
   },
   "outputs": [
    {
     "data": {
      "text/plain": [
       "0.19407477033509166"
      ]
     },
     "execution_count": 17,
     "metadata": {},
     "output_type": "execute_result"
    }
   ],
   "source": [
    "np.sqrt(np.mean(np.square(y_test-y_pred)))  #RMSE - Root Mean Squared Error "
   ]
  },
  {
   "cell_type": "code",
   "execution_count": 18,
   "id": "1c0a809a-0428-4fef-a658-35b30ca377eb",
   "metadata": {
    "tags": []
   },
   "outputs": [
    {
     "data": {
      "text/plain": [
       "0.16159750235844217"
      ]
     },
     "execution_count": 18,
     "metadata": {},
     "output_type": "execute_result"
    }
   ],
   "source": [
    "np.mean(abs(y_test-y_pred)) #MAE - Mean Absolute Error"
   ]
  },
  {
   "cell_type": "code",
   "execution_count": 19,
   "id": "d323cf70-dc6b-41bd-b983-b6de693a3d00",
   "metadata": {
    "tags": []
   },
   "outputs": [
    {
     "data": {
      "text/plain": [
       "0.004390714709891469"
      ]
     },
     "execution_count": 19,
     "metadata": {},
     "output_type": "execute_result"
    }
   ],
   "source": [
    "np.mean(np.abs((y_test-y_pred)/y_test)) #MAPE - Mean Absolute Percentage Error"
   ]
  },
  {
   "cell_type": "code",
   "execution_count": null,
   "id": "31e5d381-8a30-43e7-b758-4998524b9bd0",
   "metadata": {},
   "outputs": [],
   "source": []
  }
 ],
 "metadata": {
  "kernelspec": {
   "display_name": "Python 3 (ipykernel)",
   "language": "python",
   "name": "python3"
  },
  "language_info": {
   "codemirror_mode": {
    "name": "ipython",
    "version": 3
   },
   "file_extension": ".py",
   "mimetype": "text/x-python",
   "name": "python",
   "nbconvert_exporter": "python",
   "pygments_lexer": "ipython3",
   "version": "3.8.10"
  }
 },
 "nbformat": 4,
 "nbformat_minor": 5
}
