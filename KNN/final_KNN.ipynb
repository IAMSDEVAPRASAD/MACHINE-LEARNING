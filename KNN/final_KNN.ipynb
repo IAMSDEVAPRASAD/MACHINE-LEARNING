{
 "cells": [
  {
   "cell_type": "code",
   "execution_count": 58,
   "id": "88026043-1433-49a8-8eff-8e57e162105d",
   "metadata": {},
   "outputs": [],
   "source": [
    "from sklearn.model_selection import train_test_split\n",
    "from sklearn.preprocessing import StandardScaler\n",
    "from sklearn.neighbors import KNeighborsRegressor\n",
    "from sklearn.metrics import mean_absolute_error, mean_squared_error\n",
    "import matplotlib.pyplot as plt \n",
    "import pandas as pd\n",
    "import numpy as np "
   ]
  },
  {
   "cell_type": "code",
   "execution_count": 59,
   "id": "704142df-1181-4ebd-9350-40c7f85cf802",
   "metadata": {},
   "outputs": [],
   "source": [
    "path = \"/home/dell/Jupyter notebook datas/csv files/VAH30.csv\"\n",
    "df = pd.read_csv(path, nrows=181,usecols=[1,2,3,4,7])"
   ]
  },
  {
   "cell_type": "code",
   "execution_count": 60,
   "id": "080f42fd-c3eb-45e3-9056-671dc7412798",
   "metadata": {},
   "outputs": [
    {
     "data": {
      "text/html": [
       "<div>\n",
       "<style scoped>\n",
       "    .dataframe tbody tr th:only-of-type {\n",
       "        vertical-align: middle;\n",
       "    }\n",
       "\n",
       "    .dataframe tbody tr th {\n",
       "        vertical-align: top;\n",
       "    }\n",
       "\n",
       "    .dataframe thead th {\n",
       "        text-align: right;\n",
       "    }\n",
       "</style>\n",
       "<table border=\"1\" class=\"dataframe\">\n",
       "  <thead>\n",
       "    <tr style=\"text-align: right;\">\n",
       "      <th></th>\n",
       "      <th>Ecell_V</th>\n",
       "      <th>I_mA</th>\n",
       "      <th>EnergyCharge_W_h</th>\n",
       "      <th>QCharge_mA_h</th>\n",
       "      <th>Temperature__C</th>\n",
       "    </tr>\n",
       "  </thead>\n",
       "  <tbody>\n",
       "    <tr>\n",
       "      <th>0</th>\n",
       "      <td>3.529413</td>\n",
       "      <td>1488.3409</td>\n",
       "      <td>0.000000</td>\n",
       "      <td>0.000000</td>\n",
       "      <td>34.048470</td>\n",
       "    </tr>\n",
       "    <tr>\n",
       "      <th>1</th>\n",
       "      <td>3.536107</td>\n",
       "      <td>1489.1287</td>\n",
       "      <td>0.043876</td>\n",
       "      <td>12.408128</td>\n",
       "      <td>34.325005</td>\n",
       "    </tr>\n",
       "    <tr>\n",
       "      <th>2</th>\n",
       "      <td>3.540636</td>\n",
       "      <td>1488.7347</td>\n",
       "      <td>0.087809</td>\n",
       "      <td>24.816163</td>\n",
       "      <td>34.885979</td>\n",
       "    </tr>\n",
       "    <tr>\n",
       "      <th>3</th>\n",
       "      <td>3.544771</td>\n",
       "      <td>1489.5226</td>\n",
       "      <td>0.131793</td>\n",
       "      <td>37.224324</td>\n",
       "      <td>34.996593</td>\n",
       "    </tr>\n",
       "    <tr>\n",
       "      <th>4</th>\n",
       "      <td>3.548985</td>\n",
       "      <td>1488.3408</td>\n",
       "      <td>0.175829</td>\n",
       "      <td>49.632502</td>\n",
       "      <td>35.162514</td>\n",
       "    </tr>\n",
       "    <tr>\n",
       "      <th>...</th>\n",
       "      <td>...</td>\n",
       "      <td>...</td>\n",
       "      <td>...</td>\n",
       "      <td>...</td>\n",
       "      <td>...</td>\n",
       "    </tr>\n",
       "    <tr>\n",
       "      <th>176</th>\n",
       "      <td>4.194347</td>\n",
       "      <td>1487.1592</td>\n",
       "      <td>8.503802</td>\n",
       "      <td>2183.654046</td>\n",
       "      <td>37.698757</td>\n",
       "    </tr>\n",
       "    <tr>\n",
       "      <th>177</th>\n",
       "      <td>4.198364</td>\n",
       "      <td>1489.5226</td>\n",
       "      <td>8.555892</td>\n",
       "      <td>2196.061359</td>\n",
       "      <td>37.722458</td>\n",
       "    </tr>\n",
       "    <tr>\n",
       "      <th>178</th>\n",
       "      <td>4.199861</td>\n",
       "      <td>1487.5531</td>\n",
       "      <td>8.574110</td>\n",
       "      <td>2200.399023</td>\n",
       "      <td>37.501228</td>\n",
       "    </tr>\n",
       "    <tr>\n",
       "      <th>179</th>\n",
       "      <td>4.199546</td>\n",
       "      <td>1326.2543</td>\n",
       "      <td>8.622828</td>\n",
       "      <td>2211.999817</td>\n",
       "      <td>37.659248</td>\n",
       "    </tr>\n",
       "    <tr>\n",
       "      <th>180</th>\n",
       "      <td>4.199546</td>\n",
       "      <td>1227.1906</td>\n",
       "      <td>8.667523</td>\n",
       "      <td>2222.642636</td>\n",
       "      <td>37.588139</td>\n",
       "    </tr>\n",
       "  </tbody>\n",
       "</table>\n",
       "<p>181 rows × 5 columns</p>\n",
       "</div>"
      ],
      "text/plain": [
       "      Ecell_V       I_mA  EnergyCharge_W_h  QCharge_mA_h  Temperature__C\n",
       "0    3.529413  1488.3409          0.000000      0.000000       34.048470\n",
       "1    3.536107  1489.1287          0.043876     12.408128       34.325005\n",
       "2    3.540636  1488.7347          0.087809     24.816163       34.885979\n",
       "3    3.544771  1489.5226          0.131793     37.224324       34.996593\n",
       "4    3.548985  1488.3408          0.175829     49.632502       35.162514\n",
       "..        ...        ...               ...           ...             ...\n",
       "176  4.194347  1487.1592          8.503802   2183.654046       37.698757\n",
       "177  4.198364  1489.5226          8.555892   2196.061359       37.722458\n",
       "178  4.199861  1487.5531          8.574110   2200.399023       37.501228\n",
       "179  4.199546  1326.2543          8.622828   2211.999817       37.659248\n",
       "180  4.199546  1227.1906          8.667523   2222.642636       37.588139\n",
       "\n",
       "[181 rows x 5 columns]"
      ]
     },
     "execution_count": 60,
     "metadata": {},
     "output_type": "execute_result"
    }
   ],
   "source": [
    "df"
   ]
  },
  {
   "cell_type": "code",
   "execution_count": 61,
   "id": "f4058860-e2a5-4492-a024-4ed6fefb5f84",
   "metadata": {},
   "outputs": [],
   "source": [
    "y = df['Temperature__C']\n",
    "X = df.drop(['Temperature__C'], axis = 1)"
   ]
  },
  {
   "cell_type": "code",
   "execution_count": 62,
   "id": "71c502a1-fabe-4ebb-ad1f-add733def1fd",
   "metadata": {},
   "outputs": [
    {
     "data": {
      "text/html": [
       "<div>\n",
       "<style scoped>\n",
       "    .dataframe tbody tr th:only-of-type {\n",
       "        vertical-align: middle;\n",
       "    }\n",
       "\n",
       "    .dataframe tbody tr th {\n",
       "        vertical-align: top;\n",
       "    }\n",
       "\n",
       "    .dataframe thead th {\n",
       "        text-align: right;\n",
       "    }\n",
       "</style>\n",
       "<table border=\"1\" class=\"dataframe\">\n",
       "  <thead>\n",
       "    <tr style=\"text-align: right;\">\n",
       "      <th></th>\n",
       "      <th>count</th>\n",
       "      <th>mean</th>\n",
       "      <th>std</th>\n",
       "      <th>min</th>\n",
       "      <th>25%</th>\n",
       "      <th>50%</th>\n",
       "      <th>75%</th>\n",
       "      <th>max</th>\n",
       "    </tr>\n",
       "  </thead>\n",
       "  <tbody>\n",
       "    <tr>\n",
       "      <th>Ecell_V</th>\n",
       "      <td>181.0</td>\n",
       "      <td>3.899034</td>\n",
       "      <td>0.197164</td>\n",
       "      <td>3.529413</td>\n",
       "      <td>3.736592</td>\n",
       "      <td>3.908723</td>\n",
       "      <td>4.081169</td>\n",
       "      <td>4.199861</td>\n",
       "    </tr>\n",
       "    <tr>\n",
       "      <th>I_mA</th>\n",
       "      <td>181.0</td>\n",
       "      <td>1486.544423</td>\n",
       "      <td>22.855996</td>\n",
       "      <td>1227.190600</td>\n",
       "      <td>1488.340900</td>\n",
       "      <td>1488.931600</td>\n",
       "      <td>1489.325600</td>\n",
       "      <td>1490.901100</td>\n",
       "    </tr>\n",
       "    <tr>\n",
       "      <th>EnergyCharge_W_h</th>\n",
       "      <td>181.0</td>\n",
       "      <td>4.230726</td>\n",
       "      <td>2.538464</td>\n",
       "      <td>0.000000</td>\n",
       "      <td>2.033273</td>\n",
       "      <td>4.169024</td>\n",
       "      <td>6.395463</td>\n",
       "      <td>8.667523</td>\n",
       "    </tr>\n",
       "    <tr>\n",
       "      <th>QCharge_mA_h</th>\n",
       "      <td>181.0</td>\n",
       "      <td>1116.521007</td>\n",
       "      <td>649.793394</td>\n",
       "      <td>0.000000</td>\n",
       "      <td>558.370596</td>\n",
       "      <td>1116.701572</td>\n",
       "      <td>1674.969056</td>\n",
       "      <td>2222.642636</td>\n",
       "    </tr>\n",
       "  </tbody>\n",
       "</table>\n",
       "</div>"
      ],
      "text/plain": [
       "                  count         mean         std          min          25%  \\\n",
       "Ecell_V           181.0     3.899034    0.197164     3.529413     3.736592   \n",
       "I_mA              181.0  1486.544423   22.855996  1227.190600  1488.340900   \n",
       "EnergyCharge_W_h  181.0     4.230726    2.538464     0.000000     2.033273   \n",
       "QCharge_mA_h      181.0  1116.521007  649.793394     0.000000   558.370596   \n",
       "\n",
       "                          50%          75%          max  \n",
       "Ecell_V              3.908723     4.081169     4.199861  \n",
       "I_mA              1488.931600  1489.325600  1490.901100  \n",
       "EnergyCharge_W_h     4.169024     6.395463     8.667523  \n",
       "QCharge_mA_h      1116.701572  1674.969056  2222.642636  "
      ]
     },
     "execution_count": 62,
     "metadata": {},
     "output_type": "execute_result"
    }
   ],
   "source": [
    "# .T transposes the results, transforming rows into columns\n",
    "X.describe().T"
   ]
  },
  {
   "cell_type": "code",
   "execution_count": 63,
   "id": "3c6d24f3-cfca-4420-bb44-f2424d702c18",
   "metadata": {},
   "outputs": [
    {
     "name": "stdout",
     "output_type": "stream",
     "text": [
      "181 135 46\n"
     ]
    }
   ],
   "source": [
    "SEED = 42\n",
    "X_train, X_test, y_train, y_test = train_test_split(X, y, test_size=0.25, random_state=SEED)\n",
    "print(len(X),len(X_train),len(X_test))  "
   ]
  },
  {
   "cell_type": "code",
   "execution_count": 64,
   "id": "9c778676-f7de-48a5-9b72-152662122b0f",
   "metadata": {},
   "outputs": [],
   "source": [
    "scaler = StandardScaler()\n",
    "# Fit only on X_train\n",
    "scaler.fit(X_train)\n",
    "\n",
    "# Scale both X_train and X_test\n",
    "X_train = scaler.transform(X_train)\n",
    "X_test = scaler.transform(X_test)"
   ]
  },
  {
   "cell_type": "code",
   "execution_count": 65,
   "id": "db3ba599-f446-49db-a252-fad6493ca7f0",
   "metadata": {},
   "outputs": [
    {
     "data": {
      "text/html": [
       "<div>\n",
       "<style scoped>\n",
       "    .dataframe tbody tr th:only-of-type {\n",
       "        vertical-align: middle;\n",
       "    }\n",
       "\n",
       "    .dataframe tbody tr th {\n",
       "        vertical-align: top;\n",
       "    }\n",
       "\n",
       "    .dataframe thead th {\n",
       "        text-align: right;\n",
       "    }\n",
       "</style>\n",
       "<table border=\"1\" class=\"dataframe\">\n",
       "  <thead>\n",
       "    <tr style=\"text-align: right;\">\n",
       "      <th></th>\n",
       "      <th>count</th>\n",
       "      <th>mean</th>\n",
       "      <th>std</th>\n",
       "      <th>min</th>\n",
       "      <th>25%</th>\n",
       "      <th>50%</th>\n",
       "      <th>75%</th>\n",
       "      <th>max</th>\n",
       "    </tr>\n",
       "  </thead>\n",
       "  <tbody>\n",
       "    <tr>\n",
       "      <th>Ecell_V</th>\n",
       "      <td>135.0</td>\n",
       "      <td>1.944124e-15</td>\n",
       "      <td>1.003724</td>\n",
       "      <td>-1.876639</td>\n",
       "      <td>-0.810679</td>\n",
       "      <td>0.027892</td>\n",
       "      <td>0.929735</td>\n",
       "      <td>1.489706</td>\n",
       "    </tr>\n",
       "    <tr>\n",
       "      <th>I_mA</th>\n",
       "      <td>135.0</td>\n",
       "      <td>-1.144105e-14</td>\n",
       "      <td>1.003724</td>\n",
       "      <td>-9.816197</td>\n",
       "      <td>0.100716</td>\n",
       "      <td>0.115670</td>\n",
       "      <td>0.138109</td>\n",
       "      <td>0.197937</td>\n",
       "    </tr>\n",
       "    <tr>\n",
       "      <th>EnergyCharge_W_h</th>\n",
       "      <td>135.0</td>\n",
       "      <td>-1.217133e-16</td>\n",
       "      <td>1.003724</td>\n",
       "      <td>-1.669989</td>\n",
       "      <td>-0.851924</td>\n",
       "      <td>-0.048164</td>\n",
       "      <td>0.847554</td>\n",
       "      <td>1.701833</td>\n",
       "    </tr>\n",
       "    <tr>\n",
       "      <th>QCharge_mA_h</th>\n",
       "      <td>135.0</td>\n",
       "      <td>-1.184238e-16</td>\n",
       "      <td>1.003724</td>\n",
       "      <td>-1.721056</td>\n",
       "      <td>-0.843761</td>\n",
       "      <td>-0.023122</td>\n",
       "      <td>0.854016</td>\n",
       "      <td>1.658451</td>\n",
       "    </tr>\n",
       "  </tbody>\n",
       "</table>\n",
       "</div>"
      ],
      "text/plain": [
       "                  count          mean       std       min       25%       50%  \\\n",
       "Ecell_V           135.0  1.944124e-15  1.003724 -1.876639 -0.810679  0.027892   \n",
       "I_mA              135.0 -1.144105e-14  1.003724 -9.816197  0.100716  0.115670   \n",
       "EnergyCharge_W_h  135.0 -1.217133e-16  1.003724 -1.669989 -0.851924 -0.048164   \n",
       "QCharge_mA_h      135.0 -1.184238e-16  1.003724 -1.721056 -0.843761 -0.023122   \n",
       "\n",
       "                       75%       max  \n",
       "Ecell_V           0.929735  1.489706  \n",
       "I_mA              0.138109  0.197937  \n",
       "EnergyCharge_W_h  0.847554  1.701833  \n",
       "QCharge_mA_h      0.854016  1.658451  "
      ]
     },
     "execution_count": 65,
     "metadata": {},
     "output_type": "execute_result"
    }
   ],
   "source": [
    "col_names=['Ecell_V', 'I_mA', 'EnergyCharge_W_h', 'QCharge_mA_h']\n",
    "scaled_df = pd.DataFrame(X_train, columns=col_names)\n",
    "scaled_df.describe().T"
   ]
  },
  {
   "cell_type": "code",
   "execution_count": 66,
   "id": "02f7fa6f-2d73-4ea9-9dc6-31382cb928ec",
   "metadata": {},
   "outputs": [
    {
     "data": {
      "text/html": [
       "<style>#sk-container-id-4 {color: black;background-color: white;}#sk-container-id-4 pre{padding: 0;}#sk-container-id-4 div.sk-toggleable {background-color: white;}#sk-container-id-4 label.sk-toggleable__label {cursor: pointer;display: block;width: 100%;margin-bottom: 0;padding: 0.3em;box-sizing: border-box;text-align: center;}#sk-container-id-4 label.sk-toggleable__label-arrow:before {content: \"▸\";float: left;margin-right: 0.25em;color: #696969;}#sk-container-id-4 label.sk-toggleable__label-arrow:hover:before {color: black;}#sk-container-id-4 div.sk-estimator:hover label.sk-toggleable__label-arrow:before {color: black;}#sk-container-id-4 div.sk-toggleable__content {max-height: 0;max-width: 0;overflow: hidden;text-align: left;background-color: #f0f8ff;}#sk-container-id-4 div.sk-toggleable__content pre {margin: 0.2em;color: black;border-radius: 0.25em;background-color: #f0f8ff;}#sk-container-id-4 input.sk-toggleable__control:checked~div.sk-toggleable__content {max-height: 200px;max-width: 100%;overflow: auto;}#sk-container-id-4 input.sk-toggleable__control:checked~label.sk-toggleable__label-arrow:before {content: \"▾\";}#sk-container-id-4 div.sk-estimator input.sk-toggleable__control:checked~label.sk-toggleable__label {background-color: #d4ebff;}#sk-container-id-4 div.sk-label input.sk-toggleable__control:checked~label.sk-toggleable__label {background-color: #d4ebff;}#sk-container-id-4 input.sk-hidden--visually {border: 0;clip: rect(1px 1px 1px 1px);clip: rect(1px, 1px, 1px, 1px);height: 1px;margin: -1px;overflow: hidden;padding: 0;position: absolute;width: 1px;}#sk-container-id-4 div.sk-estimator {font-family: monospace;background-color: #f0f8ff;border: 1px dotted black;border-radius: 0.25em;box-sizing: border-box;margin-bottom: 0.5em;}#sk-container-id-4 div.sk-estimator:hover {background-color: #d4ebff;}#sk-container-id-4 div.sk-parallel-item::after {content: \"\";width: 100%;border-bottom: 1px solid gray;flex-grow: 1;}#sk-container-id-4 div.sk-label:hover label.sk-toggleable__label {background-color: #d4ebff;}#sk-container-id-4 div.sk-serial::before {content: \"\";position: absolute;border-left: 1px solid gray;box-sizing: border-box;top: 0;bottom: 0;left: 50%;z-index: 0;}#sk-container-id-4 div.sk-serial {display: flex;flex-direction: column;align-items: center;background-color: white;padding-right: 0.2em;padding-left: 0.2em;position: relative;}#sk-container-id-4 div.sk-item {position: relative;z-index: 1;}#sk-container-id-4 div.sk-parallel {display: flex;align-items: stretch;justify-content: center;background-color: white;position: relative;}#sk-container-id-4 div.sk-item::before, #sk-container-id-4 div.sk-parallel-item::before {content: \"\";position: absolute;border-left: 1px solid gray;box-sizing: border-box;top: 0;bottom: 0;left: 50%;z-index: -1;}#sk-container-id-4 div.sk-parallel-item {display: flex;flex-direction: column;z-index: 1;position: relative;background-color: white;}#sk-container-id-4 div.sk-parallel-item:first-child::after {align-self: flex-end;width: 50%;}#sk-container-id-4 div.sk-parallel-item:last-child::after {align-self: flex-start;width: 50%;}#sk-container-id-4 div.sk-parallel-item:only-child::after {width: 0;}#sk-container-id-4 div.sk-dashed-wrapped {border: 1px dashed gray;margin: 0 0.4em 0.5em 0.4em;box-sizing: border-box;padding-bottom: 0.4em;background-color: white;}#sk-container-id-4 div.sk-label label {font-family: monospace;font-weight: bold;display: inline-block;line-height: 1.2em;}#sk-container-id-4 div.sk-label-container {text-align: center;}#sk-container-id-4 div.sk-container {/* jupyter's `normalize.less` sets `[hidden] { display: none; }` but bootstrap.min.css set `[hidden] { display: none !important; }` so we also need the `!important` here to be able to override the default hidden behavior on the sphinx rendered scikit-learn.org. See: https://github.com/scikit-learn/scikit-learn/issues/21755 */display: inline-block !important;position: relative;}#sk-container-id-4 div.sk-text-repr-fallback {display: none;}</style><div id=\"sk-container-id-4\" class=\"sk-top-container\"><div class=\"sk-text-repr-fallback\"><pre>KNeighborsRegressor()</pre><b>In a Jupyter environment, please rerun this cell to show the HTML representation or trust the notebook. <br />On GitHub, the HTML representation is unable to render, please try loading this page with nbviewer.org.</b></div><div class=\"sk-container\" hidden><div class=\"sk-item\"><div class=\"sk-estimator sk-toggleable\"><input class=\"sk-toggleable__control sk-hidden--visually\" id=\"sk-estimator-id-4\" type=\"checkbox\" checked><label for=\"sk-estimator-id-4\" class=\"sk-toggleable__label sk-toggleable__label-arrow\">KNeighborsRegressor</label><div class=\"sk-toggleable__content\"><pre>KNeighborsRegressor()</pre></div></div></div></div></div>"
      ],
      "text/plain": [
       "KNeighborsRegressor()"
      ]
     },
     "execution_count": 66,
     "metadata": {},
     "output_type": "execute_result"
    }
   ],
   "source": [
    "regressor = KNeighborsRegressor(n_neighbors=5)\n",
    "regressor.fit(X_train, y_train)"
   ]
  },
  {
   "cell_type": "code",
   "execution_count": 67,
   "id": "9c745a38-acf0-4e48-a459-f4333532ed8c",
   "metadata": {},
   "outputs": [],
   "source": [
    "y_pred = regressor.predict(X_test)"
   ]
  },
  {
   "cell_type": "code",
   "execution_count": 68,
   "id": "20273683-671d-4c19-8f29-7dd527c1c742",
   "metadata": {},
   "outputs": [
    {
     "name": "stdout",
     "output_type": "stream",
     "text": [
      "mae: 0.0784267347826085\n",
      "mse: 0.009570448400073827\n",
      "rmse: 0.0978286686001288\n"
     ]
    }
   ],
   "source": [
    "mae = mean_absolute_error(y_test, y_pred)\n",
    "mse = mean_squared_error(y_test, y_pred)\n",
    "rmse = mean_squared_error(y_test, y_pred, squared=False)\n",
    "\n",
    "print(f'mae: {mae}')\n",
    "print(f'mse: {mse}')\n",
    "print(f'rmse: {rmse}')"
   ]
  },
  {
   "cell_type": "code",
   "execution_count": 69,
   "id": "76998946-3b99-402a-a1ae-6ad68bb81643",
   "metadata": {},
   "outputs": [],
   "source": [
    "error = []\n",
    "\n",
    "# Calculating MAE error for K values between 1 and 39\n",
    "for i in range(1, 40):\n",
    "    knn = KNeighborsRegressor(n_neighbors=i)\n",
    "    knn.fit(X_train, y_train)\n",
    "    pred_i = knn.predict(X_test)\n",
    "    mae = mean_absolute_error(y_test, pred_i)\n",
    "    error.append(mae)"
   ]
  },
  {
   "cell_type": "code",
   "execution_count": 70,
   "id": "86db4c4d-89a4-4f4d-90a8-b01089c3a723",
   "metadata": {},
   "outputs": [
    {
     "data": {
      "text/plain": [
       "Text(0, 0.5, 'Mean Absolute Error')"
      ]
     },
     "execution_count": 70,
     "metadata": {},
     "output_type": "execute_result"
    },
    {
     "data": {
      "image/png": "[encoded data removed]",
      "text/plain": [
       "<Figure size 1200x600 with 1 Axes>"
      ]
     },
     "metadata": {},
     "output_type": "display_data"
    }
   ],
   "source": [
    "plt.figure(figsize=(12, 6))\n",
    "plt.plot(range(1, 40), error, color='red', \n",
    "         linestyle='dashed', marker='o',\n",
    "         markerfacecolor='blue', markersize=10)\n",
    "         \n",
    "plt.title('K Value MAE')\n",
    "plt.xlabel('K Value')\n",
    "plt.ylabel('Mean Absolute Error')"
   ]
  },
  {
   "cell_type": "code",
   "execution_count": 71,
   "id": "b936f871-8bb4-4f5b-a2b3-7f5518694284",
   "metadata": {},
   "outputs": [
    {
     "name": "stdout",
     "output_type": "stream",
     "text": [
      "0.0784267347826085\n",
      "4\n"
     ]
    }
   ],
   "source": [
    "print(min(error))               # 0.43631325936692505\n",
    "print(np.array(error).argmin()) # 11"
   ]
  },
  {
   "cell_type": "code",
   "execution_count": 74,
   "id": "4a8d6aa9-b05b-405b-8a37-1418edb9d139",
   "metadata": {},
   "outputs": [
    {
     "name": "stdout",
     "output_type": "stream",
     "text": [
      "r2: 0.9823441257270022, \n",
      "mae: 0.0784267347826085 \n",
      "mse: 0.009570448400073827 \n",
      "rmse: 0.0978286686001288\n"
     ]
    }
   ],
   "source": [
    "knn_reg12 = KNeighborsRegressor(n_neighbors=5)\n",
    "knn_reg12.fit(X_train, y_train)\n",
    "y_pred12 = knn_reg12.predict(X_test)\n",
    "r2 = knn_reg12.score(X_test, y_test) \n",
    "\n",
    "mae12 = mean_absolute_error(y_test, y_pred12)\n",
    "mse12 = mean_squared_error(y_test, y_pred12)\n",
    "rmse12 = mean_squared_error(y_test, y_pred12, squared=False)\n",
    "print(f'r2: {r2}, \\nmae: {mae12} \\nmse: {mse12} \\nrmse: {rmse12}')"
   ]
  },
  {
   "cell_type": "code",
   "execution_count": null,
   "id": "6a687d37-3abb-40cb-93a0-9a8ae10a0177",
   "metadata": {},
   "outputs": [],
   "source": []
  }
 ],
 "metadata": {
  "kernelspec": {
   "display_name": "Python 3 (ipykernel)",
   "language": "python",
   "name": "python3"
  },
  "language_info": {
   "codemirror_mode": {
    "name": "ipython",
    "version": 3
   },
   "file_extension": ".py",
   "mimetype": "text/x-python",
   "name": "python",
   "nbconvert_exporter": "python",
   "pygments_lexer": "ipython3",
   "version": "3.9.13"
  }
 },
 "nbformat": 4,
 "nbformat_minor": 5
}
